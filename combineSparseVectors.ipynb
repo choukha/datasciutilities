{
 "cells": [
  {
   "cell_type": "code",
   "execution_count": 4,
   "metadata": {
    "collapsed": false
   },
   "outputs": [],
   "source": [
    "from pyspark.mllib.linalg import SparseVector,VectorUDT,DenseVector, Vectors\n",
    "import numpy as np"
   ]
  },
  {
   "cell_type": "code",
   "execution_count": 36,
   "metadata": {
    "collapsed": false
   },
   "outputs": [],
   "source": [
    "def combineSparseVectors(svs):\n",
    "    size = 0\n",
    "    nonzeros = 0\n",
    "    for sv in svs :\n",
    "        size += sv.size\n",
    "        nonzeros += len(sv.indices)\n",
    "\n",
    "    if nonzeros != 0 :\n",
    "        indices = np.empty([nonzeros])\n",
    "        values = np.empty([nonzeros])\n",
    "\n",
    "        pointer_D = 0\n",
    "        totalPt_D = 0\n",
    "        pointer_V = 0\n",
    "        for sv in svs :\n",
    "            indicesSV = sv.indices\n",
    "            for i in indicesSV :\n",
    "                indices[pointer_D] = i + totalPt_D\n",
    "                pointer_D=pointer_D+1\n",
    "            totalPt_D += sv.size\n",
    "\n",
    "            valuesSV = sv.values\n",
    "            for d in valuesSV :\n",
    "                values[pointer_V] = d\n",
    "                pointer_V=pointer_V+1\n",
    "        return SparseVector(size, indices, values)\n",
    "    else :\n",
    "        return null"
   ]
  },
  {
   "cell_type": "code",
   "execution_count": 37,
   "metadata": {
    "collapsed": false
   },
   "outputs": [],
   "source": [
    "v1 = Vectors.sparse(3, [0, 2], [1.0, 3.0])\n",
    "v2 = Vectors.sparse(2, [0, 1], [4,5])"
   ]
  },
  {
   "cell_type": "code",
   "execution_count": 38,
   "metadata": {
    "collapsed": false
   },
   "outputs": [
    {
     "data": {
      "text/plain": [
       "SparseVector(5, {0: 1.0, 2: 3.0, 3: 4.0, 4: 5.0})"
      ]
     },
     "execution_count": 38,
     "metadata": {},
     "output_type": "execute_result"
    }
   ],
   "source": [
    "combineSparseVectors([v1,v2])"
   ]
  }
 ],
 "metadata": {
  "kernelspec": {
   "display_name": "Python 3",
   "language": "python",
   "name": "python3"
  },
  "language_info": {
   "codemirror_mode": {
    "name": "ipython",
    "version": 3
   },
   "file_extension": ".py",
   "mimetype": "text/x-python",
   "name": "python",
   "nbconvert_exporter": "python",
   "pygments_lexer": "ipython3",
   "version": "3.5.1"
  }
 },
 "nbformat": 4,
 "nbformat_minor": 0
}
